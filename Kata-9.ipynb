{
 "cells": [
  {
   "cell_type": "markdown",
   "metadata": {},
   "source": [
    "# Kata 9: Uso de funciones en Python\n",
    "\n",
    "## Ejercicio 1: Trabajar con argumentos en funciones\n",
    "\n",
    "Los argumentos requeridos en las funciones se utilizan cuando las funciones necesitan que esos argumentos funcionen correctamente. En este ejercicio, construirás un informe de combustible que requiere información de varias ubicaciones de combustible en todo el cohete.\n",
    "\n",
    "Comienza por crear una función que necesite tres lecturas de combustible y devuelva un informe:"
   ]
  },
  {
   "cell_type": "code",
   "execution_count": 1,
   "metadata": {},
   "outputs": [],
   "source": [
    "# Función para leer 3 tanques de combustible y muestre el promedio\n",
    "def get_Gas(tanque1, tanque2, tanque3):\n",
    "    promedio = (tanque1+tanque2+tanque3)/3\n",
    "    print('''\n",
    "    Tanque 1: {0}\n",
    "    Tanque 2: {1}\n",
    "    Tanque 3: {2}\n",
    "    Promedio: {3}'''.format(tanque1, tanque2, tanque3, promedio))"
   ]
  },
  {
   "cell_type": "markdown",
   "metadata": {},
   "source": [
    "Ahora que hemos definido la función de informes, vamos a comprobarlo. Para esta misión, los tanques no están llenos:"
   ]
  },
  {
   "cell_type": "code",
   "execution_count": 2,
   "metadata": {},
   "outputs": [
    {
     "name": "stdout",
     "output_type": "stream",
     "text": [
      "\n",
      "    Tanque 1: 10\n",
      "    Tanque 2: 20\n",
      "    Tanque 3: 30\n",
      "    Promedio: 20.0\n"
     ]
    }
   ],
   "source": [
    "# Llamamos a la función que genera el reporte \n",
    "gas = get_Gas(10,20,30)"
   ]
  },
  {
   "cell_type": "markdown",
   "metadata": {},
   "source": [
    "En lugar de simplemente crear el informe, la función también está calculando el promedio. Mejora la legibilidad extrayendo el cálculo promedio de la función en una nueva función para que el promedio se pueda hacer de forma independiente:"
   ]
  },
  {
   "cell_type": "code",
   "execution_count": 3,
   "metadata": {},
   "outputs": [],
   "source": [
    "# Función promedio \n",
    "def calc_promedio(valores):\n",
    "    no_items = len(valores)\n",
    "    return sum(valores)/no_items"
   ]
  },
  {
   "cell_type": "code",
   "execution_count": 4,
   "metadata": {},
   "outputs": [
    {
     "name": "stdout",
     "output_type": "stream",
     "text": [
      "Promedio: 33.0\n"
     ]
    }
   ],
   "source": [
    "lista = [30, 45, 24]\n",
    "print('Promedio: '+ str(calc_promedio(lista)))"
   ]
  },
  {
   "cell_type": "markdown",
   "metadata": {},
   "source": [
    "Ahora actualiza la función de informes para llamando a la nueva función del promedio:"
   ]
  },
  {
   "cell_type": "code",
   "execution_count": 5,
   "metadata": {},
   "outputs": [],
   "source": [
    "# Función para leer 3 tanques de combustible y muestre el promedio\n",
    "def get_Gas(tanque1, tanque2, tanque3):\n",
    "    promedio = calc_promedio([tanque1, tanque2, tanque3])\n",
    "    print('''\n",
    "    Tanque 1: {0}\n",
    "    Tanque 2: {1}\n",
    "    Tanque 3: {2}\n",
    "    Promedio: {3}'''.format(tanque1, tanque2, tanque3, promedio))"
   ]
  },
  {
   "cell_type": "code",
   "execution_count": 6,
   "metadata": {},
   "outputs": [
    {
     "name": "stdout",
     "output_type": "stream",
     "text": [
      "\n",
      "    Tanque 1: 5\n",
      "    Tanque 2: 10\n",
      "    Tanque 3: 15\n",
      "    Promedio: 10.0\n"
     ]
    }
   ],
   "source": [
    "get_Gas(5, 10, 15)"
   ]
  },
  {
   "cell_type": "markdown",
   "metadata": {},
   "source": [
    "## Ejercicio 2: Trabajo con argumentos de palabra clave\n",
    "\n",
    "En este ejercicio, construirás un informe de cohete que requiere varias piezas de información, como el tiempo hasta el destino, el combustible a la izquierda y el nombre del destino. Comienza por crear una función que creará un informe preciso de la misión:"
   ]
  },
  {
   "cell_type": "code",
   "execution_count": 7,
   "metadata": {},
   "outputs": [],
   "source": [
    "# Función con un informe preciso de la misión. Considera hora de prelanzamiento, tiempo de vuelo, destino, tanque externo y tanque interno\n",
    "def informe(pre_la, tiempo, destino, t_externo, t_interno):\n",
    "    print(f'''\n",
    "    Destino:                    {destino}\n",
    "    Tiempo total:               {pre_la+tiempo} min\n",
    "    Combustible Total:          {t_externo+t_interno} lts\n",
    "    ''')\n"
   ]
  },
  {
   "cell_type": "code",
   "execution_count": 8,
   "metadata": {},
   "outputs": [
    {
     "name": "stdout",
     "output_type": "stream",
     "text": [
      "\n",
      "    Destino:                    CDMX\n",
      "    Tiempo total:               105 min\n",
      "    Combustible Total:          200 lts\n",
      "    \n"
     ]
    }
   ],
   "source": [
    "informe(15, 90, 'CDMX', 40, 160)"
   ]
  },
  {
   "cell_type": "markdown",
   "metadata": {},
   "source": [
    "La función es problemática porque no se puede adaptar para minutos adicionales o tanques adicionales de combustible. Hazlo más flexible permitiendo cualquier número de pasos basados en el tiempo y cualquier número de tanques. En lugar de usar `*args` y `**kwargs`, aprovecha el hecho de que puedes usar cualquier nombre que desees. Asegurate que la función sea más legible mediante el uso de nombres de variables que están asociados con las entradas, como `*minutes` y `**fuel_reservoirs`:"
   ]
  },
  {
   "cell_type": "code",
   "execution_count": 9,
   "metadata": {},
   "outputs": [],
   "source": [
    "# Escribe tu nueva función de reporte considerando lo anterior\n",
    "def informe(destino, *minutes, **fuel_reservoirs):\n",
    "    print('''\n",
    "    Destino:                    {0}\n",
    "    Tiempo total:               {1} min\n",
    "    Combustible Total:          {2} lts\n",
    "    '''.format(destino, sum(minutes), sum(fuel_reservoirs.values())))"
   ]
  },
  {
   "cell_type": "markdown",
   "metadata": {},
   "source": [
    "Debido a que el combustible que queda en los tanques es específico de cada tanque, actualiza la función para usar el nombre de cada tanque en el informe:"
   ]
  },
  {
   "cell_type": "code",
   "execution_count": 10,
   "metadata": {},
   "outputs": [
    {
     "name": "stdout",
     "output_type": "stream",
     "text": [
      "\n",
      "    Destino:                    CDMX\n",
      "    Tiempo total:               131 min\n",
      "    Combustible Total:          365 lts\n",
      "    \n"
     ]
    }
   ],
   "source": [
    "# Escribe tu nueva función\n",
    "informe('CDMX', 15, 90, 26, interno=300, externo1=40, externo2=25)"
   ]
  }
 ],
 "metadata": {
  "interpreter": {
   "hash": "82423f561d2a0e757bebc0e007aefdc55fa90e470183b0def65d7e19e3de990c"
  },
  "kernelspec": {
   "display_name": "Python 3.10.2 64-bit (windows store)",
   "language": "python",
   "name": "python3"
  },
  "language_info": {
   "codemirror_mode": {
    "name": "ipython",
    "version": 3
   },
   "file_extension": ".py",
   "mimetype": "text/x-python",
   "name": "python",
   "nbconvert_exporter": "python",
   "pygments_lexer": "ipython3",
   "version": "3.10.2"
  },
  "orig_nbformat": 4
 },
 "nbformat": 4,
 "nbformat_minor": 2
}
