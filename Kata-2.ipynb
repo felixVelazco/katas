{
 "cells": [
  {
   "cell_type": "markdown",
   "metadata": {},
   "source": [
    "# Kata 2: Crear un paquete\n",
    "\n",
    "En este ejercicio, aprenderás a utilizar entornos virtuales como una forma para no afectar a los paquetes instalados globalmente u otros programas que se ejecutan en tu máquina.\n",
    "\n",
    "*Para este ejercicio es necesario que lo ejecutes desde la terminal, línea de comandos, cmd, consola, cli, etc. de tu computadora, sé que es desafíante, pero no te preocupes ¡¡Sé que puedes lograrlo!!*"
   ]
  },
  {
   "cell_type": "markdown",
   "metadata": {},
   "source": [
    "## Crear un entorno virtual\n",
    "\n",
    "Crea un entorno virtual mediante `venv`\n",
    "\n",
    "- Ejecutar en su terminal: `python3 -m venv env` o bien `python -m venv env`\n",
    "Ahora tienes un directorio `(folder) env` creado en tu terminal.\n",
    "\n",
    "![Tux, the Linux mascot](assets/Captura.PNG)\n",
    "\n",
    "- Ejecuta el comando para activar el entorno virtual: `env/Scripts/activate`\n",
    "\n",
    "![Tux, the Linux mascot](assets/Captura1.PNG)\n",
    "\n",
    "Ahora ves en tu terminal `(env)`. Eso significa que has activado tu entorno virtual y se ha aislado del resto de tu máquina.\n"
   ]
  },
  {
   "cell_type": "markdown",
   "metadata": {},
   "source": [
    "## Instalar una biblioteca\n",
    "\n",
    "Ahora que estás dentro de tu entorno virtual, puedes instalar una biblioteca y saber que la biblioteca solo existirá en el entorno virtual.\n",
    "\n",
    "- Ejecuta el comando pip freeze para ver las bibliotecas instaladas en tu entorno:\n",
    "\n",
    "![Tux, the Linux mascot](assets/Captura2.PNG)\n",
    "\n",
    "No deberías obtener respuesta. A continuación, veamos cómo cambia la salida de pip freeze cuando se agrega una biblioteca (un paquete).\n",
    "\n",
    "- Ejecuta el comando `pip install` para instalar una biblioteca:\n",
    "\n",
    "![Tux, the Linux mascot](assets/Captura3.PNG)\n",
    "\n",
    "- Vuelve a ejecutar pip freeze para ver cómo ha cambiado tu lista de bibliotecas:\n",
    "\n",
    "![Tux, the Linux mascot](assets/Captura4.PNG)"
   ]
  },
  {
   "cell_type": "markdown",
   "metadata": {},
   "source": [
    "## Desactivar un entorno virtual\n",
    "\n",
    "Hasta ahora, has creado un entorno virtual y le has agregado un paquete. Sin embargo, es posible que estés trabajando en varios proyectos de Python y necesites cambiar entre ellos. Para hacer eso, debes salir (desactivar) tu entorno virtual.\n",
    "\n",
    "Ejecuta el comando `deactivate`:\n",
    "\n",
    "![Tux, the Linux mascot](assets/Captura5.PNG)\n",
    "\n",
    "Observa cómo cambia el mensaje de tu terminal `(env)` a cómo se veía antes."
   ]
  }
 ],
 "metadata": {
  "interpreter": {
   "hash": "82423f561d2a0e757bebc0e007aefdc55fa90e470183b0def65d7e19e3de990c"
  },
  "kernelspec": {
   "display_name": "Python 3.10.2 64-bit (windows store)",
   "language": "python",
   "name": "python3"
  },
  "language_info": {
   "name": "python",
   "version": "3.10.2"
  },
  "orig_nbformat": 4
 },
 "nbformat": 4,
 "nbformat_minor": 2
}
