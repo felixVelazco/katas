{
 "cells": [
  {
   "cell_type": "markdown",
   "metadata": {},
   "source": [
    "# Kata 3\n",
    "## Ejercicio 1 - Escribir declaraciones if, else, elif\n",
    "\n",
    "Para este ejercicio, escribirás una lógica condicional que imprima una advertencia si un asteroide se acerca a la Tierra demasiado rápido. La velocidad del asteroide varía dependiendo de lo cerca que esté del sol, y cualquier velocidad superior a 25 kilómetros por segundo (km/s) merece una advertencia.\n",
    "\n",
    "Un asteroide se acerca, y viaja a una velocidad de 49 km/s.\n",
    "\n",
    "* Añadir el código necesario para crear una variable que guarde la velocidad del asteroide.\n",
    "* Escribe una expresión de prueba para calcular si necesita una advertencia.\n",
    "* Agregue las instrucciones que se ejecutarán si la expresión de prueba es true o false.\n",
    "\n",
    "\n"
   ]
  },
  {
   "cell_type": "code",
   "execution_count": null,
   "metadata": {},
   "outputs": [],
   "source": [
    "vel = 49 #km/s\n",
    "\n",
    "if vel >= 25:\n",
    "    print(\"Peligro! Un asteroide se acerca a una velocidad de: \" + str(vel))\n",
    "else:\n",
    "    print(\"No hay peligro alguno\")"
   ]
  },
  {
   "cell_type": "markdown",
   "metadata": {},
   "source": [
    "## Ejercicio 2 - \n",
    "\n",
    "Si un asteroide entra en la atmósfera de la Tierra a una velocidad mayor o igual a 20 km/s, a veces produce un rayo de luz que se puede ver desde la Tierra. Escribe la lógica condicional que usa declaraciones if, else, y elif para alertar a las personas de todo el mundo que deben buscar un asteroide en el cielo. ¡Hay uno que se dirige a la tierra ahora a una velocidad de 19 km/s!\n",
    "\n",
    "* Agrega el código para crear una variable para un asteroide que viaja a 19 km/s\n",
    "* Escribe varias expresiones de prueba para determinar si puedes ver el rayo de luz desde la tierra\n",
    "* Agrega las instrucciones que se ejecutarán si las expresiones de prueba son True o False"
   ]
  },
  {
   "cell_type": "code",
   "execution_count": 1,
   "metadata": {},
   "outputs": [
    {
     "name": "stdout",
     "output_type": "stream",
     "text": [
      "Hoy nada que reportar.\n"
     ]
    }
   ],
   "source": [
    "vel2 = 19 #km/s\n",
    "\n",
    "if vel2 >= 25:\n",
    "    print(\"Peligro! Un asteroide se acerca a una velocidad de: \" + str(vel))\n",
    "elif vel2 >=20: \n",
    "    print(\"Hoy se podra observar un asteroide desde la Tierra.\")\n",
    "else:\n",
    "    print(\"Hoy nada que reportar.\")\n"
   ]
  },
  {
   "cell_type": "markdown",
   "metadata": {},
   "source": [
    "# Ejercicio 3 - Uso de operadores *`and`* y *`or`*\n",
    "\n",
    "Los asteroides de menos de 25 metros en su dimensión más grande probablemente se quemarán a medida que entren en la atmósfera de la Tierra.\n",
    "\n",
    "* Si una pieza de un asteroide que es más grande que 25 metros pero más pequeña que 1000 metros golpeara la Tierra, causaría mucho daño.\n",
    "\n",
    "También discutimos en el ejercicio anterior que:\n",
    "\n",
    "* La velocidad del asteroide varía en función de lo cerca que esté del sol, y cualquier velocidad superior a 25 kilómetros por segundo (km/s) merece una advertencia.\n",
    "* Si un asteroide entra en la atmósfera de la Tierra a una velocidad mayor o igual a 20 km/s, a veces produce un rayo de luz que se puede ver desde la Tierra.\n",
    "\n",
    "Usando toda esta información, escribe un programa que emita la advertencia o información correcta a la gente de la Tierra, según la velocidad y el tamaño de un asteroide. Utiliza instrucciones `if`, `else`, y `elif`, así como los operadores `and` y `or`.\n",
    "\n",
    "* Agrega el código para crear nuevas variables para la velocidad y el tamaño del asteroide\n",
    "* Para probar el código, prueba con varias velocidades y tamaños\n",
    "* Escribe varias expresiones de prueba o combinaciones de expresiones de prueba para determinar qué mensaje se debe enviar a Tierra.\n",
    "\n",
    "Tome en cuenta un tamaño de 40 mts y una velocidad de 25 m/s"
   ]
  },
  {
   "cell_type": "code",
   "execution_count": 12,
   "metadata": {},
   "outputs": [
    {
     "name": "stdout",
     "output_type": "stream",
     "text": [
      "Peligro inminente: viene hacia nosotros un asteroide de 40mts a 25m/s\n"
     ]
    }
   ],
   "source": [
    "size = 40       #m\n",
    "vel = 25        #m/s\n",
    "\n",
    "if vel >= 25 or size >=25:\n",
    "    print(\"Peligro inminente: viene hacia nosotros un asteroide de \"+str(size)+ \"mts a \" + str(vel) +\"m/s\")\n",
    "elif vel >= 20 and size <25:\n",
    "    print(\"Hoy se podra observar un asteroide desde la Tierra.\")\n",
    "else:\n",
    "    print(\"Nada que ver\")"
   ]
  }
 ],
 "metadata": {
  "interpreter": {
   "hash": "82423f561d2a0e757bebc0e007aefdc55fa90e470183b0def65d7e19e3de990c"
  },
  "kernelspec": {
   "display_name": "Python 3.10.2 64-bit (windows store)",
   "language": "python",
   "name": "python3"
  },
  "language_info": {
   "codemirror_mode": {
    "name": "ipython",
    "version": 3
   },
   "file_extension": ".py",
   "mimetype": "text/x-python",
   "name": "python",
   "nbconvert_exporter": "python",
   "pygments_lexer": "ipython3",
   "version": "3.10.2"
  },
  "orig_nbformat": 4
 },
 "nbformat": 4,
 "nbformat_minor": 2
}
